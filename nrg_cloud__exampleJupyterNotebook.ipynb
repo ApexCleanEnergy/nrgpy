{
 "cells": [
  {
   "cell_type": "markdown",
   "id": "2cb182e7-27dc-4a8b-aed9-af1ad29b79fe",
   "metadata": {},
   "source": [
    "# ![nrg](https://www.gravatar.com/avatar/6282094b092c756acc9f7552b164edfe?s=24) NRG Cloud | API Example Notebook\n",
    "\n",
    "The following is an example Jupyter Notebook for accessing NRG Cloud APIs to \n",
    "\n",
    "- View site information\n",
    "- Upload data files\n",
    "- Convert raw data files\n",
    "- Export ranges of measurement and diagnostic data\n",
    "\n",
    "Login to NRG Cloud and get your `client_id` and `client_secret` from the API Setup page: https://cloud.nrgsystems.com/data-manager/api-setup\n",
    "\n",
    "*This notebook requires that you have access to sites within the NRG Cloud platform.*"
   ]
  },
  {
   "cell_type": "code",
   "execution_count": null,
   "id": "a915fdb6-ef42-4bd4-814e-f87778a7a12f",
   "metadata": {},
   "outputs": [],
   "source": [
    "import nrgpy\n",
    "import pandas as pd"
   ]
  },
  {
   "cell_type": "code",
   "execution_count": null,
   "id": "b1b25b93-b788-4dd8-ac5d-2878d64d0fc8",
   "metadata": {},
   "outputs": [],
   "source": [
    "client_id = 'your-client-id-here'\n",
    "client_secret = 'your-client-secret-here'\n",
    "\n",
    "txt_output_dir = 'exports'"
   ]
  },
  {
   "cell_type": "markdown",
   "id": "a63bf6ff-48a3-4f0f-8c3c-13c43f5438ca",
   "metadata": {
    "tags": []
   },
   "source": [
    "## View site information"
   ]
  },
  {
   "cell_type": "code",
   "execution_count": null,
   "id": "32584af6-9c8e-4c9b-ba0f-47a2a31d564d",
   "metadata": {},
   "outputs": [],
   "source": [
    "sites = nrgpy.CloudSites(\n",
    "    client_id=client_id,\n",
    "    client_secret=client_secret\n",
    ")"
   ]
  },
  {
   "cell_type": "code",
   "execution_count": null,
   "id": "4596c32a-711b-45f6-bbbc-3ade173f3fa5",
   "metadata": {},
   "outputs": [],
   "source": [
    "sites.sites_df"
   ]
  },
  {
   "cell_type": "markdown",
   "id": "4b3535ad-214c-40d4-b754-a25b09702936",
   "metadata": {},
   "source": [
    "## Upload data files\n",
    "\n",
    "Upload data files for any site currently in your sites list. \n",
    "\n",
    "_Files from sites not configured in NRG Cloud will not be imported._"
   ]
  },
  {
   "cell_type": "code",
   "execution_count": null,
   "id": "1bad09c3-a39a-4d83-83b6-871161e4af8d",
   "metadata": {
    "tags": []
   },
   "outputs": [],
   "source": [
    "path_to_rld_files = \"/path/to/rld/files/\"\n",
    "\n",
    "start_date = \"2019-04-20\"\n",
    "end_date = \"2019-04-30\"\n",
    "\n",
    "importer = nrgpy.CloudImport(\n",
    "                client_id=client_id,\n",
    "                client_secret=client_secret,\n",
    "                in_dir=path_to_rld_files,\n",
    "                start_date=start_date,\n",
    "                end_date=end_date,\n",
    "                file_filter=\"\"\n",
    "            )"
   ]
  },
  {
   "cell_type": "markdown",
   "id": "ebf3a108-42c7-422a-b02a-f3be353b63f0",
   "metadata": {},
   "source": [
    "## Export a range of measurement data"
   ]
  },
  {
   "cell_type": "code",
   "execution_count": null,
   "id": "f7909427-e8a9-4647-9f9a-9a2ec74efda4",
   "metadata": {},
   "outputs": [],
   "source": [
    "site_id = 175    # get from site_df in example above\n",
    "output_txt_dir = \"txt_files\"\n",
    "\n",
    "start_date = \"2020-04-10\"\n",
    "end_date = \"2020-05-01\""
   ]
  },
  {
   "cell_type": "code",
   "execution_count": null,
   "id": "ee9e76ba-1b28-4fb1-b927-8ec7e45ae65f",
   "metadata": {},
   "outputs": [],
   "source": [
    "exporter = nrgpy.CloudExportJob(\n",
    "            client_id=client_id,\n",
    "            client_secret=client_secret,\n",
    "            out_dir=output_txt_dir,\n",
    "            site_id=site_id,\n",
    "            start_date=start_date,\n",
    "            end_date=end_date,\n",
    "            file_format=\"singleFile\",     # singleFile for TXT, or multipleFiles for RLD and original ZX files\n",
    "            export_type=\"measurements\",   # \"measurements\" or \"events\" (SymPRO sites support \"diagnostic\" and \"communication\" as well)\n",
    "            unzip=True,\n",
    "        )\n",
    "\n",
    "exporter.create_export_job()\n",
    "exporter.monitor_export_job(download=True)"
   ]
  },
  {
   "cell_type": "markdown",
   "id": "5d80b180-9977-443f-ac7e-59e2e22bafff",
   "metadata": {},
   "source": [
    "## Read exported data\n",
    "\n",
    "Use nrgpy reader function to create dataframe objects"
   ]
  },
  {
   "cell_type": "code",
   "execution_count": null,
   "id": "bd6d822d-fb62-4338-97ed-47e6556cc5a6",
   "metadata": {},
   "outputs": [],
   "source": [
    "reader = nrgpy.SymProTextRead(exporter.export_filepath, ch_details=True)"
   ]
  },
  {
   "cell_type": "code",
   "execution_count": null,
   "id": "f1f1cd9c-fa1c-4d51-b86c-3f1ba9a7d068",
   "metadata": {},
   "outputs": [],
   "source": [
    "reader.ch_info"
   ]
  },
  {
   "cell_type": "code",
   "execution_count": null,
   "id": "a14b9e17-63e8-4d0a-a5f0-e9f446dffdaa",
   "metadata": {},
   "outputs": [],
   "source": [
    "reader.data.head()"
   ]
  },
  {
   "cell_type": "code",
   "execution_count": null,
   "id": "39f6d6bf-5574-4861-a9c1-d88b68eb9ec5",
   "metadata": {},
   "outputs": [],
   "source": [
    "nrgpy.check_intervals(reader.data)"
   ]
  },
  {
   "cell_type": "markdown",
   "id": "8b874544-f4ba-4575-a9c9-7d235fd9a45b",
   "metadata": {},
   "source": [
    "## Convert raw data files"
   ]
  },
  {
   "cell_type": "code",
   "execution_count": null,
   "id": "59ceb257-00f0-43bb-b9f8-c21526b49705",
   "metadata": {},
   "outputs": [],
   "source": [
    "in_dir = \"/path/to/rld/files\""
   ]
  },
  {
   "cell_type": "code",
   "execution_count": null,
   "id": "6fbbb803-a59e-4bac-9cb7-9e3e469fefd2",
   "metadata": {
    "tags": []
   },
   "outputs": [],
   "source": [
    "converter = nrgpy.CloudConvert(\n",
    "    client_id=client_id,\n",
    "    client_secret=client_secret,\n",
    "    rld_dir=in_dir,\n",
    "    start_date=start_date,\n",
    "    end_date=end_date,\n",
    "    out_dir=output_txt_dir,\n",
    ")"
   ]
  },
  {
   "cell_type": "code",
   "execution_count": null,
   "id": "201ae5da-d04e-4896-9eee-bc5035bcdb41",
   "metadata": {},
   "outputs": [],
   "source": [
    "converter.process()"
   ]
  }
 ],
 "metadata": {
  "interpreter": {
   "hash": "e2aeecd2510d2bdc7d02b4f6089d3ced66bfb99360ba8011897298c29138ac6a"
  },
  "kernelspec": {
   "display_name": "Python 3 (ipykernel)",
   "language": "python",
   "name": "python3"
  },
  "language_info": {
   "codemirror_mode": {
    "name": "ipython",
    "version": 3
   },
   "file_extension": ".py",
   "mimetype": "text/x-python",
   "name": "python",
   "nbconvert_exporter": "python",
   "pygments_lexer": "ipython3",
   "version": "3.9.18"
  }
 },
 "nbformat": 4,
 "nbformat_minor": 5
}
