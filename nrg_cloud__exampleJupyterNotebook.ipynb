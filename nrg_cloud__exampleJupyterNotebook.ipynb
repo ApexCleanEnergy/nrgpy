{
 "cells": [
  {
   "cell_type": "markdown",
   "id": "2cb182e7-27dc-4a8b-aed9-af1ad29b79fe",
   "metadata": {},
   "source": [
    "# ![nrg](https://www.gravatar.com/avatar/6282094b092c756acc9f7552b164edfe?s=24) NRG Cloud | API example notebook\n",
    "\n",
    "Login to NRG Cloud and get your `client_id` and `client_secret` from the API Setup page: https://cloud.nrgsystems.com/data-manager/api-setup\n"
   ]
  },
  {
   "cell_type": "code",
   "execution_count": null,
   "id": "a915fdb6-ef42-4bd4-814e-f87778a7a12f",
   "metadata": {},
   "outputs": [],
   "source": [
    "import nrgpy\n",
    "import pandas as pd"
   ]
  },
  {
   "cell_type": "code",
   "execution_count": null,
   "id": "b1b25b93-b788-4dd8-ac5d-2878d64d0fc8",
   "metadata": {},
   "outputs": [],
   "source": [
    "client_id = ''\n",
    "client_secret = ''\n",
    "\n",
    "txt_dir = 'exports'"
   ]
  },
  {
   "cell_type": "markdown",
   "id": "a63bf6ff-48a3-4f0f-8c3c-13c43f5438ca",
   "metadata": {},
   "source": [
    "## get list of available sites"
   ]
  },
  {
   "cell_type": "code",
   "execution_count": null,
   "id": "32584af6-9c8e-4c9b-ba0f-47a2a31d564d",
   "metadata": {},
   "outputs": [],
   "source": [
    "sites = nrgpy.cloud_sites(\n",
    "    client_id=client_id,\n",
    "    client_secret=client_secret\n",
    ")"
   ]
  },
  {
   "cell_type": "code",
   "execution_count": null,
   "id": "f7909427-e8a9-4647-9f9a-9a2ec74efda4",
   "metadata": {},
   "outputs": [],
   "source": [
    "sites.sites_df"
   ]
  },
  {
   "cell_type": "markdown",
   "id": "ebf3a108-42c7-422a-b02a-f3be353b63f0",
   "metadata": {},
   "source": [
    "## export data from your site"
   ]
  },
  {
   "cell_type": "code",
   "execution_count": null,
   "id": "1f2e5211-cb19-4098-afd6-eebe1efbef6e",
   "metadata": {},
   "outputs": [],
   "source": [
    "site_id = sites.sites_list[0]['siteId']  # first site in your list"
   ]
  },
  {
   "cell_type": "code",
   "execution_count": null,
   "id": "449eb2f3-41fd-4213-aaac-5356a6595710",
   "metadata": {},
   "outputs": [],
   "source": [
    "exporter = nrgpy.cloud_export(\n",
    "            client_id=client_id,\n",
    "            client_secret=client_secret,\n",
    "            out_dir=txt_dir,\n",
    "            site_id=site_id,\n",
    "#             start_date=\"2021-07-10\",\n",
    "#             end_date=\"2021-07-11\",\n",
    "        )"
   ]
  },
  {
   "cell_type": "code",
   "execution_count": null,
   "id": "ce76310b-58bf-4fb4-bcfc-6141a6f92d25",
   "metadata": {},
   "outputs": [],
   "source": [
    "reader = nrgpy.sympro_txt_read(exporter.export_filepath, ch_details=True)"
   ]
  },
  {
   "cell_type": "code",
   "execution_count": null,
   "id": "d6fc4e66-9b59-485b-8866-a1b7ee283d69",
   "metadata": {
    "tags": []
   },
   "outputs": [],
   "source": [
    "reader.ch_info"
   ]
  },
  {
   "cell_type": "code",
   "execution_count": null,
   "id": "6d274e9a-6f85-46e3-926e-55c4cc68eacb",
   "metadata": {},
   "outputs": [],
   "source": [
    "reader.data"
   ]
  }
 ],
 "metadata": {
  "kernelspec": {
   "display_name": "Python 3 (ipykernel)",
   "language": "python",
   "name": "python3"
  },
  "language_info": {
   "codemirror_mode": {
    "name": "ipython",
    "version": 3
   },
   "file_extension": ".py",
   "mimetype": "text/x-python",
   "name": "python",
   "nbconvert_exporter": "python",
   "pygments_lexer": "ipython3",
   "version": "3.9.0"
  }
 },
 "nbformat": 4,
 "nbformat_minor": 5
}
